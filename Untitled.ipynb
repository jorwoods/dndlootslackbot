{
 "cells": [
  {
   "cell_type": "code",
   "execution_count": 3,
   "metadata": {
    "collapsed": true
   },
   "outputs": [],
   "source": [
    "import pandas as pd"
   ]
  },
  {
   "cell_type": "code",
   "execution_count": 4,
   "metadata": {
    "collapsed": true
   },
   "outputs": [],
   "source": [
    "df = pd.read_excel(\"itemlist.xlsx\")"
   ]
  },
  {
   "cell_type": "code",
   "execution_count": 10,
   "metadata": {
    "collapsed": false
   },
   "outputs": [
    {
     "name": "stderr",
     "output_type": "stream",
     "text": [
      "C:\\Anaconda3\\lib\\site-packages\\IPython\\core\\interactiveshell.py:2885: PerformanceWarning: \n",
      "your performance may suffer as PyTables will pickle object types that it cannot\n",
      "map directly to c-types [inferred_type->mixed,key->block0_values] [items->['item', 'coin', 'rarity', 'attuned']]\n",
      "\n",
      "  exec(code_obj, self.user_global_ns, self.user_ns)\n"
     ]
    }
   ],
   "source": [
    "df['item'] = df['Name']\n",
    "df['rarity'] = df['Rarity']\n",
    "df['attuned'] = df['attunement?']\n",
    "with pd.HDFStore(\"data.h5\") as f:\n",
    "    f[\"itemlist\"] = df[['item','amount','coin','rarity','page','attuned']]"
   ]
  },
  {
   "cell_type": "code",
   "execution_count": 11,
   "metadata": {
    "collapsed": true
   },
   "outputs": [],
   "source": [
    "with pd.HDFStore(\"data.h5\") as f:\n",
    "    f['transactions'] = pd.DataFrame(columns=['player','item','amount',\n",
    "        'coin','status','timestamp','DM_timestamp'])\n",
    "    f['player_items'] = pd.DataFrame(columns=['player','item','timestamp'])\n",
    "    f['balances'] = pd.DataFrame(columns=['player','amount','coin','timestamp'])"
   ]
  },
  {
   "cell_type": "code",
   "execution_count": 16,
   "metadata": {
    "collapsed": true
   },
   "outputs": [],
   "source": [
    "# ['player','amount','coin','timestamp']\n",
    "\n",
    "p = ['devo','jordan','brett','travis','austin']\n",
    "\n",
    "with pd.HDFStore('data.h5') as f:\n",
    "    df = f['balances']\n",
    "    for c in p:\n",
    "        df.loc[len(df)] = [c,10,'gp',pd.datetime.now()]\n",
    "        df.loc[len(df)] = [c,12,'sp',pd.datetime.now()]\n",
    "        df.loc[len(df)] = [c,50,'cp',pd.datetime.now()]\n",
    "    f['balances'] = df"
   ]
  },
  {
   "cell_type": "code",
   "execution_count": 17,
   "metadata": {
    "collapsed": true
   },
   "outputs": [],
   "source": [
    "store = pd.HDFStore('data.h5')\n",
    "df = store['balances']"
   ]
  },
  {
   "cell_type": "code",
   "execution_count": 18,
   "metadata": {
    "collapsed": false
   },
   "outputs": [
    {
     "data": {
      "text/html": [
       "<div>\n",
       "<table border=\"1\" class=\"dataframe\">\n",
       "  <thead>\n",
       "    <tr style=\"text-align: right;\">\n",
       "      <th></th>\n",
       "      <th>player</th>\n",
       "      <th>amount</th>\n",
       "      <th>coin</th>\n",
       "      <th>timestamp</th>\n",
       "    </tr>\n",
       "  </thead>\n",
       "  <tbody>\n",
       "    <tr>\n",
       "      <th>0</th>\n",
       "      <td>devo</td>\n",
       "      <td>10.0</td>\n",
       "      <td>gp</td>\n",
       "      <td>2016-09-01 23:00:31.169014</td>\n",
       "    </tr>\n",
       "    <tr>\n",
       "      <th>1</th>\n",
       "      <td>devo</td>\n",
       "      <td>12.0</td>\n",
       "      <td>sp</td>\n",
       "      <td>2016-09-01 23:00:31.176036</td>\n",
       "    </tr>\n",
       "    <tr>\n",
       "      <th>2</th>\n",
       "      <td>devo</td>\n",
       "      <td>50.0</td>\n",
       "      <td>cp</td>\n",
       "      <td>2016-09-01 23:00:31.180044</td>\n",
       "    </tr>\n",
       "    <tr>\n",
       "      <th>3</th>\n",
       "      <td>jordan</td>\n",
       "      <td>10.0</td>\n",
       "      <td>gp</td>\n",
       "      <td>2016-09-01 23:00:31.183054</td>\n",
       "    </tr>\n",
       "    <tr>\n",
       "      <th>4</th>\n",
       "      <td>jordan</td>\n",
       "      <td>12.0</td>\n",
       "      <td>sp</td>\n",
       "      <td>2016-09-01 23:00:31.186572</td>\n",
       "    </tr>\n",
       "  </tbody>\n",
       "</table>\n",
       "</div>"
      ],
      "text/plain": [
       "   player  amount coin                  timestamp\n",
       "0    devo    10.0   gp 2016-09-01 23:00:31.169014\n",
       "1    devo    12.0   sp 2016-09-01 23:00:31.176036\n",
       "2    devo    50.0   cp 2016-09-01 23:00:31.180044\n",
       "3  jordan    10.0   gp 2016-09-01 23:00:31.183054\n",
       "4  jordan    12.0   sp 2016-09-01 23:00:31.186572"
      ]
     },
     "execution_count": 18,
     "metadata": {},
     "output_type": "execute_result"
    }
   ],
   "source": [
    "df.head()"
   ]
  },
  {
   "cell_type": "code",
   "execution_count": 21,
   "metadata": {
    "collapsed": false
   },
   "outputs": [
    {
     "data": {
      "text/plain": [
       "{'cp': 50.0, 'gp': 10.0, 'sp': 12.0}"
      ]
     },
     "execution_count": 21,
     "metadata": {},
     "output_type": "execute_result"
    }
   ],
   "source": [
    "user = 'jordan'\n",
    "coins = {}\n",
    "filtered = df[df['player'] == user]\n",
    "group = filtered[['amount','coin']].groupby('coin').sum()\n",
    "group\n",
    "for i in group.index:\n",
    "    coins[i] = group['amount'][i]\n",
    "coins"
   ]
  },
  {
   "cell_type": "code",
   "execution_count": null,
   "metadata": {
    "collapsed": true
   },
   "outputs": [],
   "source": []
  }
 ],
 "metadata": {
  "anaconda-cloud": {},
  "kernelspec": {
   "display_name": "Python [Root]",
   "language": "python",
   "name": "Python [Root]"
  },
  "language_info": {
   "codemirror_mode": {
    "name": "ipython",
    "version": 3
   },
   "file_extension": ".py",
   "mimetype": "text/x-python",
   "name": "python",
   "nbconvert_exporter": "python",
   "pygments_lexer": "ipython3",
   "version": "3.5.1"
  }
 },
 "nbformat": 4,
 "nbformat_minor": 0
}
